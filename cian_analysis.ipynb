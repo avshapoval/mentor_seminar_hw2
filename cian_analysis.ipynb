{
 "cells": [
  {
   "cell_type": "markdown",
   "metadata": {},
   "source": [
    "# Анализ данных о квартирах на продажу в Москве\n",
    "\n",
    "**Источник данных:** Cian.ru\n",
    "\n",
    "**Цель:** Выполнить разведочный анализ рынка недвижимости Москвы, выявить закономерности ценообразования и создать информативные признаки для анализа.\n",
    "\n",
    "## Этапы работы\n",
    "\n",
    "1. Сбор данных\n",
    "2. Очистка и нормализация данных\n",
    "3. Анализ данных\n",
    "4. Генерация признаков (Feature Engineering)\n",
    "5. Выводы и рекомендации"
   ]
  },
  {
   "cell_type": "markdown",
   "metadata": {},
   "source": [
    "## Импорты и инициализация"
   ]
  },
  {
   "cell_type": "code",
   "execution_count": null,
   "metadata": {},
   "outputs": [],
   "source": [
    "import pandas as pd\n",
    "import numpy as np\n",
    "import matplotlib.pyplot as plt\n",
    "import seaborn as sns\n",
    "import re\n",
    "import warnings\n",
    "\n",
    "warnings.filterwarnings('ignore')\n",
    "\n",
    "plt.style.use('seaborn-v0_8-darkgrid')\n",
    "sns.set_palette('husl')\n",
    "plt.rcParams['figure.figsize'] = (12, 6)\n",
    "plt.rcParams['font.size'] = 10"
   ]
  },
  {
   "cell_type": "markdown",
   "metadata": {},
   "source": [
    "## Сбор данных\n",
    "\n",
    "Данные собираются через [Playwright](https://playwright.dev/), являющийся аналогом Selenium с расширенным набором фичей, в первую очередь связанных для async. Из-за обильного количества исполняемого JS на сайте-источнике использовать requests + BS затруднительно, поэтому выбор проводился между инструментами с полноценной поддержкой эмуляции действий пользователей. Причина выбора именно этой библиотеки тривиальна - автор сей работы знаком с ней ближе, чем с аналогами.\n",
    "\n",
    "Сам скрейпинг осуществляется в скрипте `cian_parser.py`. Из-за низкой эффективности скрейпера количество страниц, подвергнушихся парсингу было увеличено с 3 (как в тексте задания) до 6.\n",
    "\n",
    "## Очистка и нормализация данных\n",
    "\n",
    "Загружаем сырые данные, удаляем дубликаты, очищаем от лишних символов и приводим к нужным типам.\n"
   ]
  },
  {
   "cell_type": "code",
   "execution_count": 41,
   "metadata": {},
   "outputs": [],
   "source": [
    "def clean_price(price_str):\n",
    "    if pd.isna(price_str):\n",
    "        return np.nan\n",
    "    price_clean = re.sub(r'[^0-9]', '', str(price_str))\n",
    "    return float(price_clean) if price_clean else np.nan\n",
    "\n",
    "def clean_area(area_str):\n",
    "    if pd.isna(area_str):\n",
    "        return np.nan\n",
    "    area_clean = str(area_str).replace(',', '.')\n",
    "    match = re.search(r'(\\d+\\.?\\d*)', area_clean)\n",
    "    return float(match.group(1)) if match else np.nan\n",
    "\n",
    "def clean_number(num_str):\n",
    "    if pd.isna(num_str):\n",
    "        return np.nan\n",
    "    match = re.search(r'(\\d+)', str(num_str))\n",
    "    return int(match.group(1)) if match else np.nan\n",
    "\n",
    "def clean_text(text):\n",
    "    if pd.isna(text):\n",
    "        return None\n",
    "    text_clean = re.sub(r'\\s+', ' ', str(text))\n",
    "    return text_clean.strip()"
   ]
  },
  {
   "cell_type": "markdown",
   "metadata": {},
   "source": [
    "### Дропаем дубликаты (по offer_id)"
   ]
  },
  {
   "cell_type": "code",
   "execution_count": 42,
   "metadata": {},
   "outputs": [
    {
     "name": "stdout",
     "output_type": "stream",
     "text": [
      "Загружено: 168 строк, 13 столбцов\n",
      "Удалено дубликатов: 25\n"
     ]
    },
    {
     "data": {
      "text/html": [
       "<div>\n",
       "<style scoped>\n",
       "    .dataframe tbody tr th:only-of-type {\n",
       "        vertical-align: middle;\n",
       "    }\n",
       "\n",
       "    .dataframe tbody tr th {\n",
       "        vertical-align: top;\n",
       "    }\n",
       "\n",
       "    .dataframe thead th {\n",
       "        text-align: right;\n",
       "    }\n",
       "</style>\n",
       "<table border=\"1\" class=\"dataframe\">\n",
       "  <thead>\n",
       "    <tr style=\"text-align: right;\">\n",
       "      <th></th>\n",
       "      <th>offer_id</th>\n",
       "      <th>title</th>\n",
       "      <th>address</th>\n",
       "      <th>district</th>\n",
       "      <th>price</th>\n",
       "      <th>total_area</th>\n",
       "      <th>rooms</th>\n",
       "      <th>floor</th>\n",
       "      <th>floors_total</th>\n",
       "      <th>house_type</th>\n",
       "      <th>year_built</th>\n",
       "      <th>description</th>\n",
       "      <th>link</th>\n",
       "    </tr>\n",
       "  </thead>\n",
       "  <tbody>\n",
       "    <tr>\n",
       "      <th>0</th>\n",
       "      <td>322430288</td>\n",
       "      <td>2-комн. квартира, 90,4 м², 3/17 этаж</td>\n",
       "      <td>Москва</td>\n",
       "      <td>ЗАО</td>\n",
       "      <td>128 304 720 ₽</td>\n",
       "      <td>90.4</td>\n",
       "      <td>2.0</td>\n",
       "      <td>3.0</td>\n",
       "      <td>17.0</td>\n",
       "      <td>NaN</td>\n",
       "      <td>NaN</td>\n",
       "      <td>Продается квартира с 2-мя спальнями без отделк...</td>\n",
       "      <td>https://www.cian.ru/sale/flat/322430288/</td>\n",
       "    </tr>\n",
       "    <tr>\n",
       "      <th>1</th>\n",
       "      <td>323336526</td>\n",
       "      <td>Лот под ключ у Кремля</td>\n",
       "      <td>Москва</td>\n",
       "      <td>ЦАО</td>\n",
       "      <td>87 179 200 ₽</td>\n",
       "      <td>NaN</td>\n",
       "      <td>NaN</td>\n",
       "      <td>NaN</td>\n",
       "      <td>NaN</td>\n",
       "      <td>NaN</td>\n",
       "      <td>NaN</td>\n",
       "      <td>Рассрочка 0% на 12 месяцев. Lumin House - клуб...</td>\n",
       "      <td>https://www.cian.ru/sale/flat/323336526/</td>\n",
       "    </tr>\n",
       "    <tr>\n",
       "      <th>2</th>\n",
       "      <td>323122607</td>\n",
       "      <td>3-комн. квартира, 111,8 м², 5/11 этаж</td>\n",
       "      <td>Москва</td>\n",
       "      <td>ЦАО</td>\n",
       "      <td>210 000 000 ₽</td>\n",
       "      <td>111.8</td>\n",
       "      <td>3.0</td>\n",
       "      <td>5.0</td>\n",
       "      <td>11.0</td>\n",
       "      <td>NaN</td>\n",
       "      <td>NaN</td>\n",
       "      <td>ХАРАКТЕРИСТИКИ КВАРТИРЫ Выполнен ремонт. ПЛАНИ...</td>\n",
       "      <td>https://www.cian.ru/sale/flat/323122607/</td>\n",
       "    </tr>\n",
       "  </tbody>\n",
       "</table>\n",
       "</div>"
      ],
      "text/plain": [
       "    offer_id                                  title address district  \\\n",
       "0  322430288   2-комн. квартира, 90,4 м², 3/17 этаж  Москва      ЗАО   \n",
       "1  323336526                  Лот под ключ у Кремля  Москва      ЦАО   \n",
       "2  323122607  3-комн. квартира, 111,8 м², 5/11 этаж  Москва      ЦАО   \n",
       "\n",
       "           price  total_area  rooms  floor  floors_total  house_type  \\\n",
       "0  128 304 720 ₽        90.4    2.0    3.0          17.0         NaN   \n",
       "1   87 179 200 ₽         NaN    NaN    NaN           NaN         NaN   \n",
       "2  210 000 000 ₽       111.8    3.0    5.0          11.0         NaN   \n",
       "\n",
       "   year_built                                        description  \\\n",
       "0         NaN  Продается квартира с 2-мя спальнями без отделк...   \n",
       "1         NaN  Рассрочка 0% на 12 месяцев. Lumin House - клуб...   \n",
       "2         NaN  ХАРАКТЕРИСТИКИ КВАРТИРЫ Выполнен ремонт. ПЛАНИ...   \n",
       "\n",
       "                                       link  \n",
       "0  https://www.cian.ru/sale/flat/322430288/  \n",
       "1  https://www.cian.ru/sale/flat/323336526/  \n",
       "2  https://www.cian.ru/sale/flat/323122607/  "
      ]
     },
     "execution_count": 42,
     "metadata": {},
     "output_type": "execute_result"
    }
   ],
   "source": [
    "# utf-8-sig здесь использовался для совместимости с Excel, при разведочном анализе в том числе использовал его\n",
    "df_raw = pd.read_csv('data/cian_data.csv', encoding='utf-8-sig')\n",
    "print(f\"Загружено: {len(df_raw)} строк, {len(df_raw.columns)} столбцов\")\n",
    "\n",
    "df = df_raw.copy()\n",
    "\n",
    "duplicates_before = len(df)\n",
    "df = df.drop_duplicates(subset=['offer_id'], keep='first')\n",
    "print(f\"Удалено дубликатов: {duplicates_before - len(df)}\")\n",
    "\n",
    "df.head(3)"
   ]
  },
  {
   "cell_type": "markdown",
   "metadata": {},
   "source": [
    "### Очищаем содержимое числовых полей от текста и удаляем строки с price=null/отсутствующим price"
   ]
  },
  {
   "cell_type": "code",
   "execution_count": 43,
   "metadata": {},
   "outputs": [
    {
     "name": "stdout",
     "output_type": "stream",
     "text": [
      "Удалено строк без цены: 16\n",
      "Итого строк после очистки: 127\n"
     ]
    }
   ],
   "source": [
    "df['price'] = df['price'].apply(clean_price)\n",
    "df['total_area'] = df['total_area'].apply(clean_area)\n",
    "df['rooms'] = df['rooms'].apply(clean_number)\n",
    "df['floor'] = df['floor'].apply(clean_number)\n",
    "df['floors_total'] = df['floors_total'].apply(clean_number)\n",
    "df['year_built'] = df['year_built'].apply(clean_number)\n",
    "\n",
    "df['title'] = df['title'].apply(clean_text)\n",
    "df['address'] = df['address'].apply(clean_text)\n",
    "df['district'] = df['district'].apply(clean_text)\n",
    "df['house_type'] = df['house_type'].apply(clean_text)\n",
    "df['description'] = df['description'].apply(clean_text)\n",
    "\n",
    "rows_before = len(df)\n",
    "df = df[df['price'].notna()]\n",
    "print(f\"Удалено строк без цены: {rows_before - len(df)}\")\n",
    "\n",
    "df = df[(df['price'] >= 1_000_000) & (df['price'] <= 5_000_000_000)]\n",
    "df = df[(df['total_area'].isna()) | ((df['total_area'] >= 10) & (df['total_area'] <= 1000))]\n",
    "\n",
    "print(f\"Итого строк после очистки: {len(df)}\")\n"
   ]
  },
  {
   "cell_type": "markdown",
   "metadata": {},
   "source": [
    "### Сохраняем очищенные данные"
   ]
  },
  {
   "cell_type": "code",
   "execution_count": 44,
   "metadata": {},
   "outputs": [
    {
     "name": "stdout",
     "output_type": "stream",
     "text": [
      "Файл 'data/cian_clean.csv' создан\n",
      "\n",
      "Пример очищенных данных:\n"
     ]
    },
    {
     "data": {
      "text/html": [
       "<div>\n",
       "<style scoped>\n",
       "    .dataframe tbody tr th:only-of-type {\n",
       "        vertical-align: middle;\n",
       "    }\n",
       "\n",
       "    .dataframe tbody tr th {\n",
       "        vertical-align: top;\n",
       "    }\n",
       "\n",
       "    .dataframe thead th {\n",
       "        text-align: right;\n",
       "    }\n",
       "</style>\n",
       "<table border=\"1\" class=\"dataframe\">\n",
       "  <thead>\n",
       "    <tr style=\"text-align: right;\">\n",
       "      <th></th>\n",
       "      <th>offer_id</th>\n",
       "      <th>price</th>\n",
       "      <th>total_area</th>\n",
       "      <th>rooms</th>\n",
       "      <th>floor</th>\n",
       "      <th>floors_total</th>\n",
       "      <th>district</th>\n",
       "    </tr>\n",
       "  </thead>\n",
       "  <tbody>\n",
       "    <tr>\n",
       "      <th>0</th>\n",
       "      <td>322430288</td>\n",
       "      <td>128304720.0</td>\n",
       "      <td>90.4</td>\n",
       "      <td>2.0</td>\n",
       "      <td>3.0</td>\n",
       "      <td>17.0</td>\n",
       "      <td>ЗАО</td>\n",
       "    </tr>\n",
       "    <tr>\n",
       "      <th>1</th>\n",
       "      <td>323336526</td>\n",
       "      <td>87179200.0</td>\n",
       "      <td>NaN</td>\n",
       "      <td>NaN</td>\n",
       "      <td>NaN</td>\n",
       "      <td>NaN</td>\n",
       "      <td>ЦАО</td>\n",
       "    </tr>\n",
       "    <tr>\n",
       "      <th>2</th>\n",
       "      <td>323122607</td>\n",
       "      <td>210000000.0</td>\n",
       "      <td>111.8</td>\n",
       "      <td>3.0</td>\n",
       "      <td>5.0</td>\n",
       "      <td>11.0</td>\n",
       "      <td>ЦАО</td>\n",
       "    </tr>\n",
       "    <tr>\n",
       "      <th>3</th>\n",
       "      <td>308803465</td>\n",
       "      <td>467910000.0</td>\n",
       "      <td>NaN</td>\n",
       "      <td>NaN</td>\n",
       "      <td>NaN</td>\n",
       "      <td>NaN</td>\n",
       "      <td>ЦАО</td>\n",
       "    </tr>\n",
       "    <tr>\n",
       "      <th>4</th>\n",
       "      <td>321565417</td>\n",
       "      <td>165000000.0</td>\n",
       "      <td>NaN</td>\n",
       "      <td>NaN</td>\n",
       "      <td>NaN</td>\n",
       "      <td>NaN</td>\n",
       "      <td>ЦАО</td>\n",
       "    </tr>\n",
       "  </tbody>\n",
       "</table>\n",
       "</div>"
      ],
      "text/plain": [
       "    offer_id        price  total_area  rooms  floor  floors_total district\n",
       "0  322430288  128304720.0        90.4    2.0    3.0          17.0      ЗАО\n",
       "1  323336526   87179200.0         NaN    NaN    NaN           NaN      ЦАО\n",
       "2  323122607  210000000.0       111.8    3.0    5.0          11.0      ЦАО\n",
       "3  308803465  467910000.0         NaN    NaN    NaN           NaN      ЦАО\n",
       "4  321565417  165000000.0         NaN    NaN    NaN           NaN      ЦАО"
      ]
     },
     "execution_count": 44,
     "metadata": {},
     "output_type": "execute_result"
    }
   ],
   "source": [
    "df.to_csv('data/cian_clean.csv', index=False, encoding='utf-8')\n",
    "print(\"Файл 'data/cian_clean.csv' создан\")\n",
    "\n",
    "print(\"\\nПример очищенных данных:\")\n",
    "df[['offer_id', 'price', 'total_area', 'rooms', 'floor', 'floors_total', 'district']].head()"
   ]
  },
  {
   "cell_type": "markdown",
   "metadata": {},
   "source": [
    "## Анализ данных"
   ]
  },
  {
   "cell_type": "markdown",
   "metadata": {},
   "source": [
    "### Описание набора данных\n"
   ]
  },
  {
   "cell_type": "code",
   "execution_count": 45,
   "metadata": {},
   "outputs": [
    {
     "name": "stdout",
     "output_type": "stream",
     "text": [
      "Количество строк: 127\n",
      "Количество столбцов: 13\n",
      "\n",
      "Типы данных:\n",
      "offer_id          int64\n",
      "title            object\n",
      "address          object\n",
      "district         object\n",
      "price           float64\n",
      "total_area      float64\n",
      "rooms           float64\n",
      "floor           float64\n",
      "floors_total    float64\n",
      "house_type       object\n",
      "year_built      float64\n",
      "description      object\n",
      "link             object\n",
      "dtype: object\n",
      "\n",
      "Пропуски в данных:\n"
     ]
    },
    {
     "data": {
      "text/html": [
       "<div>\n",
       "<style scoped>\n",
       "    .dataframe tbody tr th:only-of-type {\n",
       "        vertical-align: middle;\n",
       "    }\n",
       "\n",
       "    .dataframe tbody tr th {\n",
       "        vertical-align: top;\n",
       "    }\n",
       "\n",
       "    .dataframe thead th {\n",
       "        text-align: right;\n",
       "    }\n",
       "</style>\n",
       "<table border=\"1\" class=\"dataframe\">\n",
       "  <thead>\n",
       "    <tr style=\"text-align: right;\">\n",
       "      <th></th>\n",
       "      <th>Пропусков</th>\n",
       "      <th>Процент</th>\n",
       "    </tr>\n",
       "  </thead>\n",
       "  <tbody>\n",
       "    <tr>\n",
       "      <th>house_type</th>\n",
       "      <td>127</td>\n",
       "      <td>100.00</td>\n",
       "    </tr>\n",
       "    <tr>\n",
       "      <th>year_built</th>\n",
       "      <td>127</td>\n",
       "      <td>100.00</td>\n",
       "    </tr>\n",
       "    <tr>\n",
       "      <th>total_area</th>\n",
       "      <td>89</td>\n",
       "      <td>70.08</td>\n",
       "    </tr>\n",
       "    <tr>\n",
       "      <th>floor</th>\n",
       "      <td>89</td>\n",
       "      <td>70.08</td>\n",
       "    </tr>\n",
       "    <tr>\n",
       "      <th>floors_total</th>\n",
       "      <td>89</td>\n",
       "      <td>70.08</td>\n",
       "    </tr>\n",
       "    <tr>\n",
       "      <th>rooms</th>\n",
       "      <td>85</td>\n",
       "      <td>66.93</td>\n",
       "    </tr>\n",
       "    <tr>\n",
       "      <th>description</th>\n",
       "      <td>5</td>\n",
       "      <td>3.94</td>\n",
       "    </tr>\n",
       "  </tbody>\n",
       "</table>\n",
       "</div>"
      ],
      "text/plain": [
       "              Пропусков  Процент\n",
       "house_type          127   100.00\n",
       "year_built          127   100.00\n",
       "total_area           89    70.08\n",
       "floor                89    70.08\n",
       "floors_total         89    70.08\n",
       "rooms                85    66.93\n",
       "description           5     3.94"
      ]
     },
     "execution_count": 45,
     "metadata": {},
     "output_type": "execute_result"
    }
   ],
   "source": [
    "print(f\"Количество строк: {len(df)}\")\n",
    "print(f\"Количество столбцов: {len(df.columns)}\")\n",
    "print(f\"\\nТипы данных:\\n{df.dtypes}\")\n",
    "\n",
    "print(\"\\nПропуски в данных:\")\n",
    "missing = df.isnull().sum()\n",
    "missing_percent = (missing / len(df) * 100).round(2)\n",
    "missing_df = pd.DataFrame({'Пропусков': missing, 'Процент': missing_percent})\n",
    "missing_df[missing_df['Пропусков'] > 0].sort_values('Пропусков', ascending=False)"
   ]
  },
  {
   "cell_type": "markdown",
   "metadata": {},
   "source": [
    "### Базовая статистика\n"
   ]
  },
  {
   "cell_type": "code",
   "execution_count": 46,
   "metadata": {},
   "outputs": [
    {
     "data": {
      "text/html": [
       "<div>\n",
       "<style scoped>\n",
       "    .dataframe tbody tr th:only-of-type {\n",
       "        vertical-align: middle;\n",
       "    }\n",
       "\n",
       "    .dataframe tbody tr th {\n",
       "        vertical-align: top;\n",
       "    }\n",
       "\n",
       "    .dataframe thead th {\n",
       "        text-align: right;\n",
       "    }\n",
       "</style>\n",
       "<table border=\"1\" class=\"dataframe\">\n",
       "  <thead>\n",
       "    <tr style=\"text-align: right;\">\n",
       "      <th></th>\n",
       "      <th>price</th>\n",
       "      <th>total_area</th>\n",
       "      <th>rooms</th>\n",
       "      <th>floor</th>\n",
       "      <th>floors_total</th>\n",
       "      <th>year_built</th>\n",
       "    </tr>\n",
       "  </thead>\n",
       "  <tbody>\n",
       "    <tr>\n",
       "      <th>count</th>\n",
       "      <td>1.270000e+02</td>\n",
       "      <td>38.000000</td>\n",
       "      <td>42.000000</td>\n",
       "      <td>38.000000</td>\n",
       "      <td>38.000000</td>\n",
       "      <td>0.0</td>\n",
       "    </tr>\n",
       "    <tr>\n",
       "      <th>mean</th>\n",
       "      <td>1.792658e+08</td>\n",
       "      <td>123.885526</td>\n",
       "      <td>2.619048</td>\n",
       "      <td>7.052632</td>\n",
       "      <td>17.947368</td>\n",
       "      <td>NaN</td>\n",
       "    </tr>\n",
       "    <tr>\n",
       "      <th>std</th>\n",
       "      <td>2.150637e+08</td>\n",
       "      <td>89.274726</td>\n",
       "      <td>1.447494</td>\n",
       "      <td>7.399589</td>\n",
       "      <td>17.424660</td>\n",
       "      <td>NaN</td>\n",
       "    </tr>\n",
       "    <tr>\n",
       "      <th>min</th>\n",
       "      <td>1.237640e+07</td>\n",
       "      <td>26.870000</td>\n",
       "      <td>0.000000</td>\n",
       "      <td>2.000000</td>\n",
       "      <td>4.000000</td>\n",
       "      <td>NaN</td>\n",
       "    </tr>\n",
       "    <tr>\n",
       "      <th>25%</th>\n",
       "      <td>5.241575e+07</td>\n",
       "      <td>66.600000</td>\n",
       "      <td>2.000000</td>\n",
       "      <td>2.000000</td>\n",
       "      <td>7.250000</td>\n",
       "      <td>NaN</td>\n",
       "    </tr>\n",
       "    <tr>\n",
       "      <th>50%</th>\n",
       "      <td>9.900000e+07</td>\n",
       "      <td>106.100000</td>\n",
       "      <td>3.000000</td>\n",
       "      <td>4.500000</td>\n",
       "      <td>12.000000</td>\n",
       "      <td>NaN</td>\n",
       "    </tr>\n",
       "    <tr>\n",
       "      <th>75%</th>\n",
       "      <td>2.108400e+08</td>\n",
       "      <td>141.350000</td>\n",
       "      <td>3.750000</td>\n",
       "      <td>7.000000</td>\n",
       "      <td>21.000000</td>\n",
       "      <td>NaN</td>\n",
       "    </tr>\n",
       "    <tr>\n",
       "      <th>max</th>\n",
       "      <td>1.297600e+09</td>\n",
       "      <td>405.500000</td>\n",
       "      <td>6.000000</td>\n",
       "      <td>38.000000</td>\n",
       "      <td>90.000000</td>\n",
       "      <td>NaN</td>\n",
       "    </tr>\n",
       "  </tbody>\n",
       "</table>\n",
       "</div>"
      ],
      "text/plain": [
       "              price  total_area      rooms      floor  floors_total  \\\n",
       "count  1.270000e+02   38.000000  42.000000  38.000000     38.000000   \n",
       "mean   1.792658e+08  123.885526   2.619048   7.052632     17.947368   \n",
       "std    2.150637e+08   89.274726   1.447494   7.399589     17.424660   \n",
       "min    1.237640e+07   26.870000   0.000000   2.000000      4.000000   \n",
       "25%    5.241575e+07   66.600000   2.000000   2.000000      7.250000   \n",
       "50%    9.900000e+07  106.100000   3.000000   4.500000     12.000000   \n",
       "75%    2.108400e+08  141.350000   3.750000   7.000000     21.000000   \n",
       "max    1.297600e+09  405.500000   6.000000  38.000000     90.000000   \n",
       "\n",
       "       year_built  \n",
       "count         0.0  \n",
       "mean          NaN  \n",
       "std           NaN  \n",
       "min           NaN  \n",
       "25%           NaN  \n",
       "50%           NaN  \n",
       "75%           NaN  \n",
       "max           NaN  "
      ]
     },
     "execution_count": 46,
     "metadata": {},
     "output_type": "execute_result"
    }
   ],
   "source": [
    "df[['price', 'total_area', 'rooms', 'floor', 'floors_total', 'year_built']].describe()"
   ]
  },
  {
   "cell_type": "markdown",
   "metadata": {},
   "source": [
    "### Распределение цен"
   ]
  },
  {
   "cell_type": "code",
   "execution_count": 47,
   "metadata": {},
   "outputs": [
    {
     "data": {
      "image/png": "[encoded data removed]",
      "text/plain": [
       "<Figure size 1500x500 with 2 Axes>"
      ]
     },
     "metadata": {},
     "output_type": "display_data"
    },
    {
     "name": "stdout",
     "output_type": "stream",
     "text": [
      "Средняя цена: 179.27 млн руб.\n",
      "Медианная цена: 99.00 млн руб.\n",
      "Минимальная цена: 12.38 млн руб.\n",
      "Максимальная цена: 1297.60 млн руб.\n"
     ]
    }
   ],
   "source": [
    "fig, axes = plt.subplots(1, 2, figsize=(15, 5))\n",
    "\n",
    "axes[0].hist(df['price'] / 1_000_000, bins=30, edgecolor='black', alpha=0.7, color='skyblue')\n",
    "axes[0].set_xlabel('Цена (млн руб.)', fontsize=12)\n",
    "axes[0].set_ylabel('Количество объявлений', fontsize=12)\n",
    "axes[0].set_title('Распределение цен на квартиры', fontsize=14, fontweight='bold')\n",
    "axes[0].grid(axis='y', alpha=0.3)\n",
    "\n",
    "axes[1].boxplot(df['price'] / 1_000_000, vert=True)\n",
    "axes[1].set_ylabel('Цена (млн руб.)', fontsize=12)\n",
    "axes[1].set_title('Boxplot: Распределение цен', fontsize=14, fontweight='bold')\n",
    "axes[1].grid(axis='y', alpha=0.3)\n",
    "\n",
    "plt.tight_layout()\n",
    "plt.savefig('images/price_distribution.png', dpi=300, bbox_inches='tight')\n",
    "plt.show()\n",
    "\n",
    "print(f\"Средняя цена: {df['price'].mean() / 1_000_000:.2f} млн руб.\")\n",
    "print(f\"Медианная цена: {df['price'].median() / 1_000_000:.2f} млн руб.\")\n",
    "print(f\"Минимальная цена: {df['price'].min() / 1_000_000:.2f} млн руб.\")\n",
    "print(f\"Максимальная цена: {df['price'].max() / 1_000_000:.2f} млн руб.\")"
   ]
  },
  {
   "cell_type": "markdown",
   "metadata": {},
   "source": [
    "### Зависимость цены от площади"
   ]
  },
  {
   "cell_type": "code",
   "execution_count": 48,
   "metadata": {},
   "outputs": [
    {
     "data": {
      "image/png": "[encoded data removed]",
      "text/plain": [
       "<Figure size 1200x600 with 2 Axes>"
      ]
     },
     "metadata": {},
     "output_type": "display_data"
    },
    {
     "name": "stdout",
     "output_type": "stream",
     "text": [
      "Корреляция между ценой и площадью: 0.873\n"
     ]
    }
   ],
   "source": [
    "df_area = df[df['total_area'].notna()]\n",
    "\n",
    "if len(df_area) > 0:\n",
    "    fig, ax = plt.subplots(figsize=(12, 6))\n",
    "    scatter = ax.scatter(df_area['total_area'], df_area['price'] / 1_000_000, \n",
    "                         alpha=0.6, c=df_area['rooms'], cmap='viridis', s=50)\n",
    "    ax.set_xlabel('Площадь (кв.м)', fontsize=12)\n",
    "    ax.set_ylabel('Цена (млн руб.)', fontsize=12)\n",
    "    ax.set_title('Зависимость цены от площади квартиры', fontsize=14, fontweight='bold')\n",
    "    ax.grid(alpha=0.3)\n",
    "    cbar = plt.colorbar(scatter, ax=ax)\n",
    "    cbar.set_label('Количество комнат', fontsize=10)\n",
    "    plt.tight_layout()\n",
    "    plt.savefig('images/price_vs_area.png', dpi=300, bbox_inches='tight')\n",
    "    plt.show()\n",
    "    \n",
    "    correlation = df_area['price'].corr(df_area['total_area'])\n",
    "    print(f\"Корреляция между ценой и площадью: {correlation:.3f}\")"
   ]
  },
  {
   "cell_type": "markdown",
   "metadata": {},
   "source": [
    "### Анализ по районам\n"
   ]
  },
  {
   "cell_type": "code",
   "execution_count": 49,
   "metadata": {},
   "outputs": [
    {
     "name": "stdout",
     "output_type": "stream",
     "text": [
      "ТОП-5 самых дорогих районов:\n",
      "          Средняя цена  Медианная цена  Количество\n",
      "district                                          \n",
      "ЦАО       2.433731e+08     136750000.0          80\n",
      "ЗАО       1.078640e+08      91000000.0          22\n",
      "СЗАО      5.563770e+07      48208524.0           5\n",
      "ЮЗАО      4.232781e+07      31254620.0           3\n",
      "ЮАО       3.626399e+07      27669840.5           4\n"
     ]
    }
   ],
   "source": [
    "df_district = df[df['district'].notna()]\n",
    "\n",
    "if len(df_district) > 0:\n",
    "    district_stats = df_district.groupby('district').agg({\n",
    "        'price': ['mean', 'median', 'count']\n",
    "    }).round(2)\n",
    "    district_stats.columns = ['Средняя цена', 'Медианная цена', 'Количество']\n",
    "    district_stats = district_stats[district_stats['Количество'] >= 2]\n",
    "    district_stats = district_stats.sort_values('Средняя цена', ascending=False)\n",
    "    \n",
    "    print(\"ТОП-5 самых дорогих районов:\")\n",
    "    print(district_stats.head())"
   ]
  },
  {
   "cell_type": "code",
   "execution_count": 50,
   "metadata": {},
   "outputs": [
    {
     "data": {
      "image/png": "[encoded data removed]",
      "text/plain": [
       "<Figure size 1200x600 with 1 Axes>"
      ]
     },
     "metadata": {},
     "output_type": "display_data"
    }
   ],
   "source": [
    "if len(df_district) > 0 and len(district_stats) > 0:\n",
    "    fig, ax = plt.subplots(figsize=(12, 6))\n",
    "    top_districts = district_stats.head(5)\n",
    "    bars = ax.barh(range(len(top_districts)), top_districts['Средняя цена'] / 1_000_000, color='coral')\n",
    "    ax.set_yticks(range(len(top_districts)))\n",
    "    ax.set_yticklabels(top_districts.index)\n",
    "    ax.set_xlabel('Средняя цена (млн руб.)', fontsize=12)\n",
    "    ax.set_title('ТОП-5 самых дорогих районов', fontsize=14, fontweight='bold')\n",
    "    ax.grid(axis='x', alpha=0.3)\n",
    "    \n",
    "    for i, bar in enumerate(bars):\n",
    "        width = bar.get_width()\n",
    "        ax.text(width, bar.get_y() + bar.get_height()/2, \n",
    "                f'{width:.1f}', ha='left', va='center', fontsize=9)\n",
    "    \n",
    "    plt.tight_layout()\n",
    "    plt.savefig('images/price_by_district.png', dpi=300, bbox_inches='tight')\n",
    "    plt.show()\n"
   ]
  },
  {
   "cell_type": "markdown",
   "metadata": {},
   "source": [
    "### Цена за квадратный метр\n"
   ]
  },
  {
   "cell_type": "code",
   "execution_count": 51,
   "metadata": {},
   "outputs": [
    {
     "name": "stdout",
     "output_type": "stream",
     "text": [
      "Средняя цена за кв.м: 1,150,659 руб.\n",
      "Медианная цена за кв.м: 932,444 руб.\n"
     ]
    }
   ],
   "source": [
    "df_with_area = df[(df['total_area'].notna()) & (df['total_area'] > 0)].copy()\n",
    "df_with_area['price_per_m2'] = df_with_area['price'] / df_with_area['total_area']\n",
    "\n",
    "if len(df_with_area) > 0:\n",
    "    print(f\"Средняя цена за кв.м: {df_with_area['price_per_m2'].mean():,.0f} руб.\")\n",
    "    print(f\"Медианная цена за кв.м: {df_with_area['price_per_m2'].median():,.0f} руб.\")"
   ]
  },
  {
   "cell_type": "markdown",
   "metadata": {},
   "source": [
    "### Количество комнат\n"
   ]
  },
  {
   "cell_type": "code",
   "execution_count": 52,
   "metadata": {},
   "outputs": [
    {
     "name": "stdout",
     "output_type": "stream",
     "text": [
      "Статистика по количеству комнат:\n",
      "       Средняя цена  Медианная цена  Количество  Средняя площадь\n",
      "rooms                                                           \n",
      "0.0    1.777365e+07      17484400.0           5            30.02\n",
      "1.0    4.153352e+07      31304600.0           3            48.53\n",
      "2.0    7.944033e+07      41793763.5          10            76.50\n",
      "3.0    1.554011e+08     144000000.0          13           126.40\n",
      "4.0    3.911430e+08     284554760.5           8           208.04\n",
      "5.0    5.665800e+08     566580000.0           2           398.30\n",
      "6.0    1.350000e+08     135000000.0           1           224.00\n"
     ]
    }
   ],
   "source": [
    "df_rooms = df[df['rooms'].notna()]\n",
    "\n",
    "if len(df_rooms) > 0:\n",
    "    rooms_stats = df_rooms.groupby('rooms').agg({\n",
    "        'price': ['mean', 'median', 'count'],\n",
    "        'total_area': 'mean'\n",
    "    }).round(2)\n",
    "    rooms_stats.columns = ['Средняя цена', 'Медианная цена', 'Количество', 'Средняя площадь']\n",
    "    print(\"Статистика по количеству комнат:\")\n",
    "    print(rooms_stats)"
   ]
  },
  {
   "cell_type": "markdown",
   "metadata": {},
   "source": [
    "## Генерация признаков (Feature Engineering)"
   ]
  },
  {
   "cell_type": "code",
   "execution_count": 53,
   "metadata": {},
   "outputs": [
    {
     "name": "stdout",
     "output_type": "stream",
     "text": [
      "Созданные признаки:\n",
      "1. price_per_m2 - цена за квадратный метр\n",
      "2. is_new_building - признак новостройки (1/0)\n",
      "3. building_age - возраст здания в годах\n",
      "4. floor_ratio - отношение этажа к общему количеству\n",
      "5. floor_category - категория этажа (first/middle/last)\n",
      "6. area_category - категория площади (small/medium/large/xlarge)\n",
      "7. price_category - категория цены (budget/medium/premium/luxury)\n"
     ]
    }
   ],
   "source": [
    "df_features = df.copy()\n",
    "current_year = 2025\n",
    "\n",
    "df_features['price_per_m2'] = np.where(\n",
    "    df_features['total_area'].notna() & (df_features['total_area'] > 0),\n",
    "    df_features['price'] / df_features['total_area'],\n",
    "    np.nan\n",
    ")\n",
    "\n",
    "df_features['is_new_building'] = np.where(df_features['year_built'] >= 2010, 1, 0)\n",
    "\n",
    "df_features['building_age'] = np.where(\n",
    "    df_features['year_built'].notna(),\n",
    "    current_year - df_features['year_built'],\n",
    "    np.nan\n",
    ")\n",
    "\n",
    "df_features['floor_ratio'] = np.where(\n",
    "    (df_features['floor'].notna()) & (df_features['floors_total'].notna()) & (df_features['floors_total'] > 0),\n",
    "    df_features['floor'] / df_features['floors_total'],\n",
    "    np.nan\n",
    ")\n",
    "\n",
    "def categorize_floor(row):\n",
    "    if pd.isna(row['floor']) or pd.isna(row['floors_total']):\n",
    "        return 'unknown'\n",
    "    elif row['floor'] == 1:\n",
    "        return 'first'\n",
    "    elif row['floor'] == row['floors_total']:\n",
    "        return 'last'\n",
    "    else:\n",
    "        return 'middle'\n",
    "\n",
    "df_features['floor_category'] = df_features.apply(categorize_floor, axis=1)\n",
    "\n",
    "def categorize_area(area):\n",
    "    if pd.isna(area):\n",
    "        return 'unknown'\n",
    "    elif area < 40:\n",
    "        return 'small'\n",
    "    elif area < 80:\n",
    "        return 'medium'\n",
    "    elif area < 120:\n",
    "        return 'large'\n",
    "    else:\n",
    "        return 'xlarge'\n",
    "\n",
    "df_features['area_category'] = df_features['total_area'].apply(categorize_area)\n",
    "\n",
    "def categorize_price(price):\n",
    "    if pd.isna(price):\n",
    "        return 'unknown'\n",
    "    elif price < 30_000_000:\n",
    "        return 'budget'\n",
    "    elif price < 100_000_000:\n",
    "        return 'medium'\n",
    "    elif price < 300_000_000:\n",
    "        return 'premium'\n",
    "    else:\n",
    "        return 'luxury'\n",
    "\n",
    "df_features['price_category'] = df_features['price'].apply(categorize_price)\n",
    "\n",
    "print(\"Созданные признаки:\")\n",
    "print(\"1. price_per_m2 - цена за квадратный метр\")\n",
    "print(\"2. is_new_building - признак новостройки (1/0)\")\n",
    "print(\"3. building_age - возраст здания в годах\")\n",
    "print(\"4. floor_ratio - отношение этажа к общему количеству\")\n",
    "print(\"5. floor_category - категория этажа (first/middle/last)\")\n",
    "print(\"6. area_category - категория площади (small/medium/large/xlarge)\")\n",
    "print(\"7. price_category - категория цены (budget/medium/premium/luxury)\")"
   ]
  },
  {
   "cell_type": "code",
   "execution_count": 54,
   "metadata": {},
   "outputs": [
    {
     "name": "stdout",
     "output_type": "stream",
     "text": [
      "Распределение по категориям цен:\n",
      "price_category\n",
      "medium     50\n",
      "premium    41\n",
      "luxury     22\n",
      "budget     14\n",
      "Name: count, dtype: int64\n",
      "\n",
      "Средняя цена по категориям этажей:\n",
      "                Средняя цена  Количество\n",
      "floor_category                          \n",
      "last            4.587250e+08           2\n",
      "middle          1.628459e+08          36\n",
      "unknown         1.796275e+08          89\n"
     ]
    }
   ],
   "source": [
    "print(\"Распределение по категориям цен:\")\n",
    "print(df_features['price_category'].value_counts())\n",
    "\n",
    "if df_features['year_built'].notna().sum() > 0:\n",
    "    print(\"\\nНовостройки vs Старые дома:\")\n",
    "    building_comparison = df_features.groupby('is_new_building').agg({\n",
    "        'price': 'mean',\n",
    "        'price_per_m2': 'mean',\n",
    "        'offer_id': 'count'\n",
    "    }).round(2)\n",
    "    building_comparison.index = ['Старые дома', 'Новостройки']\n",
    "    building_comparison.columns = ['Средняя цена', 'Цена за кв.м', 'Количество']\n",
    "    print(building_comparison)\n",
    "\n",
    "print(\"\\nСредняя цена по категориям этажей:\")\n",
    "floor_cat_price = df_features.groupby('floor_category')['price'].agg(['mean', 'count']).round(2)\n",
    "floor_cat_price.columns = ['Средняя цена', 'Количество']\n",
    "print(floor_cat_price)"
   ]
  },
  {
   "cell_type": "markdown",
   "metadata": {},
   "source": [
    "### Сохранение данных с признаками\n"
   ]
  },
  {
   "cell_type": "code",
   "execution_count": 55,
   "metadata": {},
   "outputs": [
    {
     "name": "stdout",
     "output_type": "stream",
     "text": [
      "Файл 'data/cian_features.csv' создан\n"
     ]
    }
   ],
   "source": [
    "df_features.to_csv('data/cian_features.csv', index=False, encoding='utf-8-sig')\n",
    "print(\"Файл 'data/cian_features.csv' создан\")"
   ]
  },
  {
   "cell_type": "markdown",
   "metadata": {},
   "source": [
    "## Выводы"
   ]
  },
  {
   "cell_type": "markdown",
   "metadata": {},
   "source": [
    "### Сводная таблица показателей\n"
   ]
  },
  {
   "cell_type": "code",
   "execution_count": 56,
   "metadata": {},
   "outputs": [
    {
     "data": {
      "text/html": [
       "<div>\n",
       "<style scoped>\n",
       "    .dataframe tbody tr th:only-of-type {\n",
       "        vertical-align: middle;\n",
       "    }\n",
       "\n",
       "    .dataframe tbody tr th {\n",
       "        vertical-align: top;\n",
       "    }\n",
       "\n",
       "    .dataframe thead th {\n",
       "        text-align: right;\n",
       "    }\n",
       "</style>\n",
       "<table border=\"1\" class=\"dataframe\">\n",
       "  <thead>\n",
       "    <tr style=\"text-align: right;\">\n",
       "      <th></th>\n",
       "      <th>Показатель</th>\n",
       "      <th>Значение</th>\n",
       "    </tr>\n",
       "  </thead>\n",
       "  <tbody>\n",
       "    <tr>\n",
       "      <th>0</th>\n",
       "      <td>Всего объявлений</td>\n",
       "      <td>127</td>\n",
       "    </tr>\n",
       "    <tr>\n",
       "      <th>1</th>\n",
       "      <td>Средняя цена (млн руб.)</td>\n",
       "      <td>179.27</td>\n",
       "    </tr>\n",
       "    <tr>\n",
       "      <th>2</th>\n",
       "      <td>Медианная цена (млн руб.)</td>\n",
       "      <td>99.00</td>\n",
       "    </tr>\n",
       "    <tr>\n",
       "      <th>3</th>\n",
       "      <td>Средняя площадь (кв.м)</td>\n",
       "      <td>123.9</td>\n",
       "    </tr>\n",
       "    <tr>\n",
       "      <th>4</th>\n",
       "      <td>Средняя цена за кв.м (руб.)</td>\n",
       "      <td>1,150,659</td>\n",
       "    </tr>\n",
       "    <tr>\n",
       "      <th>5</th>\n",
       "      <td>Среднее количество комнат</td>\n",
       "      <td>2.6</td>\n",
       "    </tr>\n",
       "    <tr>\n",
       "      <th>6</th>\n",
       "      <td>Средняя этажность зданий</td>\n",
       "      <td>17.9</td>\n",
       "    </tr>\n",
       "  </tbody>\n",
       "</table>\n",
       "</div>"
      ],
      "text/plain": [
       "                    Показатель   Значение\n",
       "0             Всего объявлений        127\n",
       "1      Средняя цена (млн руб.)     179.27\n",
       "2    Медианная цена (млн руб.)      99.00\n",
       "3       Средняя площадь (кв.м)      123.9\n",
       "4  Средняя цена за кв.м (руб.)  1,150,659\n",
       "5    Среднее количество комнат        2.6\n",
       "6     Средняя этажность зданий       17.9"
      ]
     },
     "execution_count": 56,
     "metadata": {},
     "output_type": "execute_result"
    }
   ],
   "source": [
    "summary_data = {\n",
    "    'Показатель': [\n",
    "        'Всего объявлений',\n",
    "        'Средняя цена (млн руб.)',\n",
    "        'Медианная цена (млн руб.)',\n",
    "        'Средняя площадь (кв.м)',\n",
    "        'Средняя цена за кв.м (руб.)',\n",
    "        'Среднее количество комнат',\n",
    "        'Средняя этажность зданий',\n",
    "    ],\n",
    "    'Значение': [\n",
    "        len(df_features),\n",
    "        f\"{df_features['price'].mean() / 1_000_000:.2f}\",\n",
    "        f\"{df_features['price'].median() / 1_000_000:.2f}\",\n",
    "        f\"{df_features['total_area'].mean():.1f}\" if df_features['total_area'].notna().any() else 'N/A',\n",
    "        f\"{df_features['price_per_m2'].mean():,.0f}\" if df_features['price_per_m2'].notna().any() else 'N/A',\n",
    "        f\"{df_features['rooms'].mean():.1f}\" if df_features['rooms'].notna().any() else 'N/A',\n",
    "        f\"{df_features['floors_total'].mean():.1f}\" if df_features['floors_total'].notna().any() else 'N/A',\n",
    "    ]\n",
    "}\n",
    "\n",
    "summary_df = pd.DataFrame(summary_data)\n",
    "summary_df\n"
   ]
  },
  {
   "cell_type": "markdown",
   "metadata": {},
   "source": [
    "### Основные выводы\n"
   ]
  },
  {
   "cell_type": "code",
   "execution_count": 58,
   "metadata": {},
   "outputs": [
    {
     "name": "stdout",
     "output_type": "stream",
     "text": [
      "САМЫЕ ДОРОГИЕ РАЙОНЫ:\n",
      "   1. ЦАО: 243.4 млн руб.\n",
      "   2. ЗАО: 107.9 млн руб.\n",
      "   3. СЗАО: 55.6 млн руб.\n",
      "\n",
      "ЗАВИСИМОСТЬ ЦЕНЫ ОТ ПЛОЩАДИ:\n",
      "   Корреляция: 0.873\n",
      "   Сильная корреляция - цена растет с увеличением площади\n",
      "\n",
      "ПОПУЛЯРНЫЕ ТИПЫ КВАРТИР:\n",
      "   3-комнатные: 13 объявлений (10.2%)\n",
      "   2-комнатные: 10 объявлений (7.9%)\n",
      "   4-комнатные: 8 объявлений (6.3%)\n",
      "\n",
      "Московский рынок недвижимости демонстрирует значительный разброс цен в зависимости от района, площади и других характеристик.\n",
      "Самые дорогие районы - престижные центральные районы. \n",
      "Цена в значительной степени коррелирует с площадью квартиры.\n",
      "\n"
     ]
    }
   ],
   "source": [
    "if 'district_stats' in locals() and len(district_stats) > 0:\n",
    "    print(\"САМЫЕ ДОРОГИЕ РАЙОНЫ:\")\n",
    "    for idx, (district, row) in enumerate(district_stats.head(3).iterrows(), 1):\n",
    "        print(f\"   {idx}. {district}: {row['Средняя цена'] / 1_000_000:.1f} млн руб.\")\n",
    "\n",
    "if 'correlation' in locals():\n",
    "    print(f\"\\nЗАВИСИМОСТЬ ЦЕНЫ ОТ ПЛОЩАДИ:\")\n",
    "    print(f\"   Корреляция: {correlation:.3f}\")\n",
    "    if correlation > 0.7:\n",
    "        print(\"   Сильная корреляция - цена растет с увеличением площади\")\n",
    "    elif correlation > 0.4:\n",
    "        print(\"   Умеренная корреляция - площадь влияет на цену, но не единственный фактор\")\n",
    "\n",
    "if df_features['rooms'].notna().any():\n",
    "    popular_rooms = df_features['rooms'].value_counts().head(3)\n",
    "    print(f\"\\nПОПУЛЯРНЫЕ ТИПЫ КВАРТИР:\")\n",
    "    for rooms, count in popular_rooms.items():\n",
    "        room_text = \"студия\" if rooms == 0 else f\"{int(rooms)}-комнатные\"\n",
    "        print(f\"   {room_text}: {count} объявлений ({count/len(df_features)*100:.1f}%)\")\n",
    "\n",
    "print(\n",
    "\"\"\"\n",
    "Московский рынок недвижимости демонстрирует значительный разброс цен в зависимости от района, площади и других характеристик.\n",
    "Самые дорогие районы - престижные центральные районы. \n",
    "Цена в значительной степени коррелирует с площадью квартиры.\n",
    "\"\"\"\n",
    ")"
   ]
  }
 ],
 "metadata": {
  "kernelspec": {
   "display_name": "Python 3",
   "language": "python",
   "name": "python3"
  },
  "language_info": {
   "codemirror_mode": {
    "name": "ipython",
    "version": 3
   },
   "file_extension": ".py",
   "mimetype": "text/x-python",
   "name": "python",
   "nbconvert_exporter": "python",
   "pygments_lexer": "ipython3",
   "version": "3.10.4"
  }
 },
 "nbformat": 4,
 "nbformat_minor": 2
}
